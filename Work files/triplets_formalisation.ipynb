{
 "cells": [
  {
   "cell_type": "code",
   "execution_count": 10,
   "metadata": {},
   "outputs": [],
   "source": [
    "import pandas as pd"
   ]
  },
  {
   "cell_type": "code",
   "execution_count": 11,
   "metadata": {},
   "outputs": [],
   "source": [
    "df = pd.DataFrame()"
   ]
  },
  {
   "cell_type": "code",
   "execution_count": 12,
   "metadata": {},
   "outputs": [],
   "source": [
    "def to_upper_camel_case(sentence):\n",
    "    # split the sentence into words\n",
    "    words = sentence.split()\n",
    "    # capitalize the first word\n",
    "    words[0] = words[0].capitalize()\n",
    "    # capitalize the rest of the words\n",
    "    for i in range(1, len(words)):\n",
    "        words[i] = words[i].capitalize()\n",
    "    # join the words into a single string\n",
    "    return ''.join(words)"
   ]
  },
  {
   "cell_type": "code",
   "execution_count": 13,
   "metadata": {},
   "outputs": [],
   "source": [
    "def to_camel_case(sentence):\n",
    "    # split the sentence into words\n",
    "    words = sentence.split()\n",
    "    # capitalize the first word\n",
    "    words[0] = words[0].lower()\n",
    "    # capitalize the rest of the words\n",
    "    for i in range(1, len(words)):\n",
    "        words[i] = words[i].capitalize()\n",
    "    # join the words into a single string\n",
    "    return ''.join(words)"
   ]
  },
  {
   "cell_type": "code",
   "execution_count": 14,
   "metadata": {},
   "outputs": [],
   "source": [
    "list = []\n",
    "def format_dicts_classes(dict_list):\n",
    "    # iterate over the list of dictionaries\n",
    "    for dictionary in dict_list:\n",
    "        # print the value of the specified key in each dictionary\n",
    "        if dictionary['relation'] == 'contains':\n",
    "            dictionary['object'] = to_upper_camel_case(dictionary['object'])\n",
    "            dictionary['subject'] = to_upper_camel_case(dictionary['subject'])\n",
    "            dictionary['formatted_output'] = \"{}::{}.\".format(dictionary['object'], dictionary['subject'])\n",
    "            list.append(dictionary['formatted_output'])\n",
    "            # print(dictionary['formatted_output'])"
   ]
  },
  {
   "cell_type": "code",
   "execution_count": 15,
   "metadata": {},
   "outputs": [],
   "source": [
    "list = []\n",
    "def format_dicts_relations(dict_list):\n",
    "    # iterate over the list of dictionaries\n",
    "    for dictionary in dict_list:\n",
    "        # print the value of the specified key in each dictionary\n",
    "        dictionary['relation'] = to_camel_case(dictionary['relation'])\n",
    "        dictionary['object'] = to_upper_camel_case(dictionary['object'])\n",
    "        dictionary['subject'] = to_upper_camel_case(dictionary['subject'])\n",
    "        dictionary['formatted_output'] = \"{}[{} -> {}].\".format(dictionary['subject'], dictionary['relation'], dictionary['object'])\n",
    "        list.append(dictionary['formatted_output'])\n",
    "        # print(dictionary['formatted_output'])"
   ]
  },
  {
   "cell_type": "code",
   "execution_count": 16,
   "metadata": {},
   "outputs": [],
   "source": [
    "dict_list = [{'subject': 'noise', 'relation': 'haveChecklistQuestions', 'object': ' If the measures for the reduction of emissions at source are not adequate, then is the machine provided with additional protective measures: enclosures? See ISO 15667.'}, {'subject': 'noise', 'relation': 'haveChecklistQuestions', 'object': ' If the measures for the reduction of emissions at source are not adequate, then is the machine provided with additional protective measures: screens fitted to the machine?'}, {'subject': 'noise', 'relation': 'haveChecklistQuestions', 'object': ' If the measures for the reduction of emissions at source are not adequate, then is the machine provided with additional protective measures: silencers? See ISO 14163.'}, \n",
    "{'subject': 'vibration', 'relation': 'haveChecklistQuestions', 'object': ' If the measures for the reduction of emissions at source are not adequate, then is the machine provided with additional protective measures: vibration isolators, such as dampening devices placed between the source and the exposed person?'}, {'subject': 'vibration', 'relation': 'haveChecklistQuestions', 'object': ' If the measures for the reduction of emissions at source are not adequate, then is the machine provided with additional protective measures: resilient mounting?'}, {'subject': 'vibration', 'relation': 'haveChecklistQuestions', 'object': ' If the measures for the reduction of emissions at source are not adequate, then is the machine provided with additional protective measures: suspended seats? For measures for vibration isolation of stationary industrial machinery see EN 1299.'}, \n",
    "{'subject': 'hazardous substances', 'relation': 'haveChecklistQuestions', 'object': ' If the measures for the reduction of emissions at source are not adequate, then is the machine provided with additional protective measures: encapsulation of the machine (enclosure with negative pressure)?'}, {'subject': 'hazardous substances', 'relation': 'haveChecklistQuestions', 'object': ' If the measures for the reduction of emissions at source are not adequate, then is the machine provided with additional protective measures: local exhaust ventilation with filtration?'}, {'subject': 'hazardous substances', 'relation': 'haveChecklistQuestions', 'object': ' If the measures for the reduction of emissions at source are not adequate, then is the machine provided with additional protective measures: wetting with liquids?'}, {'subject': 'hazardous substances', 'relation': 'haveChecklistQuestions', 'object': ' If the measures for the reduction of emissions at source are not adequate, then is the machine provided with additional protective measures: special ventilation in the area of the machine (air curtains, cabins for operators)? See ISO 14123-1'}, \n",
    "{'subject': 'radiation', 'relation': 'haveChecklistQuestions', 'object': ' If the measures for the reduction of emissions at source are not adequate, then is the machine provided with additional protective measures: use of filtering and absorption?'}, {'subject': 'radiation', 'relation': 'haveChecklistQuestions', 'object': ' If the measures for the reduction of emissions at source are not adequate, then is the machine provided with additional protective measures: use of attenuation screens or guards?'}, \n",
    "{'subject': 'electrical hazards', 'relation': 'haveChecklistQuestions', 'object': ' Has for the design of the electrical equipment of machines IEC 60204-1 been applied which gives general provisions about disconnection and switching of electrical circuits and for protection against electric shock? For requirements related to specific machines, see corresponding IEC standards (for example, IEC 61029, IEC 60745 or IEC 60335).'}, \n",
    "{'subject': 'ConsiderationOfGeometricalFactorsAndPhysicalAspects', 'relation': 'includes', 'object': ' geometrical factors'}, {'subject': 'ConsiderationOfGeometricalFactorsAndPhysicalAspects', 'relation': 'includes', 'object': ' physical aspects'}, \n",
    "{'subject': 'location and nature of information for use', 'relation': 'haveChecklistQuestions', 'object': ' Has the type of information needed by the user been decided upon and if it should be given: on the machine itself?'}, {'subject': 'location and nature of information for use', 'relation': 'haveChecklistQuestions', 'object': ' Has the type of information needed by the user been decided upon and if it should be given: in accompanying documents? (In particular instruction handbook).'}, {'subject': 'location and nature of information for use', 'relation': 'haveChecklistQuestions', 'object': ' Has the type of information needed by the user been decided upon and if it should be given: on the packaging?'}, {'subject': 'location and nature of information for use', 'relation': 'haveChecklistQuestions', 'object': ' Has the type of information needed by the user been decided upon and if it should be given: by other means, such as signals and warnings outside the machine? Standardized phrases shall be considered where important messages such as warnings are given (see also IEC 62079).'}, \n",
    "{'subject': 'signals and warning devices', 'relation': 'haveChecklistQuestions', 'object': ' Where signals and warning devices are installed, are they: emitted before the occurrence of the hazardous event?'}, {'subject': 'signals and warning devices', 'relation': 'haveChecklistQuestions', 'object': ' Where signals and warning devices are installed, are they: unambiguous?'}, {'subject': 'signals and warning devices', 'relation': 'haveChecklistQuestions', 'object': ' Where signals and warning devices are installed, are they: clearly perceived and differentiated from all other signals used?'}, {'subject': 'signals and warning devices', 'relation': 'haveChecklistQuestions', 'object': ' Where signals and warning devices are installed, are they: clearly recognised by the operator and other persons?'}, {'subject': 'signals and warning devices', 'relation': 'haveChecklistQuestions', 'object': ' Are warning devices designed and located so that checking is easy and does the information for use prescribe regular checking?'}, {'subject': 'signals and warning devices', 'relation': 'haveChecklistQuestions', 'object': ' Is the attention of designers drawn to the possibility of “sensorial saturation”, which can result from too many visual and/or acoustic signals and which can also lead to defeating the warning devices? NOTE: Consultation of the user on this subject is often necessary.'}, \n",
    "]\n",
    "# format_dicts_classes(dict_list)\n",
    "format_dicts_relations(dict_list)\n"
   ]
  },
  {
   "cell_type": "code",
   "execution_count": 17,
   "metadata": {},
   "outputs": [
    {
     "data": {
      "text/html": [
       "<div>\n",
       "<style scoped>\n",
       "    .dataframe tbody tr th:only-of-type {\n",
       "        vertical-align: middle;\n",
       "    }\n",
       "\n",
       "    .dataframe tbody tr th {\n",
       "        vertical-align: top;\n",
       "    }\n",
       "\n",
       "    .dataframe thead th {\n",
       "        text-align: right;\n",
       "    }\n",
       "</style>\n",
       "<table border=\"1\" class=\"dataframe\">\n",
       "  <thead>\n",
       "    <tr style=\"text-align: right;\">\n",
       "      <th></th>\n",
       "      <th>formatted_output</th>\n",
       "    </tr>\n",
       "  </thead>\n",
       "  <tbody>\n",
       "    <tr>\n",
       "      <th>0</th>\n",
       "      <td>Noise[haveChecklistQuestions -&gt; ' If the measu...</td>\n",
       "    </tr>\n",
       "    <tr>\n",
       "      <th>1</th>\n",
       "      <td>Noise[haveChecklistQuestions -&gt; ' If the measu...</td>\n",
       "    </tr>\n",
       "    <tr>\n",
       "      <th>2</th>\n",
       "      <td>Noise[haveChecklistQuestions -&gt; ' If the measu...</td>\n",
       "    </tr>\n",
       "    <tr>\n",
       "      <th>3</th>\n",
       "      <td>Vibration[haveChecklistQuestions -&gt; ' If the m...</td>\n",
       "    </tr>\n",
       "    <tr>\n",
       "      <th>4</th>\n",
       "      <td>Vibration[haveChecklistQuestions -&gt; ' If the m...</td>\n",
       "    </tr>\n",
       "  </tbody>\n",
       "</table>\n",
       "</div>"
      ],
      "text/plain": [
       "                                    formatted_output\n",
       "0  Noise[haveChecklistQuestions -> ' If the measu...\n",
       "1  Noise[haveChecklistQuestions -> ' If the measu...\n",
       "2  Noise[haveChecklistQuestions -> ' If the measu...\n",
       "3  Vibration[haveChecklistQuestions -> ' If the m...\n",
       "4  Vibration[haveChecklistQuestions -> ' If the m..."
      ]
     },
     "execution_count": 17,
     "metadata": {},
     "output_type": "execute_result"
    }
   ],
   "source": [
    "df['formatted_output'] = list\n",
    "df.head()"
   ]
  },
  {
   "cell_type": "code",
   "execution_count": 18,
   "metadata": {},
   "outputs": [],
   "source": [
    "df.to_excel('formalised.xlsx', index=False)"
   ]
  }
 ],
 "metadata": {
  "kernelspec": {
   "display_name": "Python 3 (ipykernel)",
   "language": "python",
   "name": "python3"
  },
  "language_info": {
   "codemirror_mode": {
    "name": "ipython",
    "version": 3
   },
   "file_extension": ".py",
   "mimetype": "text/x-python",
   "name": "python",
   "nbconvert_exporter": "python",
   "pygments_lexer": "ipython3",
   "version": "3.9.7"
  },
  "vscode": {
   "interpreter": {
    "hash": "e11cfc5c228cd2b5038a1a70e2e60dad8de04e06f775edfb12e275d41b9cf0e6"
   }
  }
 },
 "nbformat": 4,
 "nbformat_minor": 2
}
