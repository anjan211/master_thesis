{
 "cells": [
  {
   "cell_type": "code",
   "execution_count": 1,
   "metadata": {},
   "outputs": [],
   "source": [
    "from docx import Document\n",
    "import pandas as pd\n",
    "import re\n",
    "import sys"
   ]
  },
  {
   "cell_type": "code",
   "execution_count": 2,
   "metadata": {},
   "outputs": [],
   "source": [
    "doc_name = \"TRF_ISO_12100\"\n",
    "table_num = -1 # Required info is in table 3 for most of the cases\n",
    "document = Document(doc_name+\".docx\")\n",
    "tables = document.tables\n",
    "df = pd.DataFrame()\n",
    "\n",
    "for row in tables[table_num].rows:\n",
    "    text = [cell.text for cell in row.cells]\n",
    "    df = df.append([text], ignore_index=True)\n",
    "\n",
    "df.insert(1, '', '') # adding a blank column\n",
    "\n",
    "df.loc[-1] = ['Clause', 'Question number', 'Points', 'Concepts', 'Relations']  # adding initial row\n",
    "df.index = df.index + 1  # shifting index\n",
    "df = df.sort_index()  # sorting by index\n",
    "\n",
    "# df.to_excel(doc_name+\".xlsx\", index=False, header=False)"
   ]
  },
  {
   "cell_type": "code",
   "execution_count": 3,
   "metadata": {},
   "outputs": [],
   "source": [
    "# Loop through the dataframe and seperate clauses from sections\n",
    "\n",
    "temp=''\n",
    "\n",
    "for i in range (1, len(df)):\n",
    "    pos1 = df.iloc[i,0]\n",
    "\n",
    "    match = bool(re.search(r'\\d', str(pos1))) # Finds numeric value\n",
    "    match1 = bool(re.search(r'^\\d+$', str(pos1))) # Finds exact number\n",
    "    \n",
    "    match2 = bool(re.search(r'^\\d.\\d+$', str(pos1))) # Finds exact number dot number\n",
    "    \n",
    "    if not(match1):\n",
    "        temp = pos1\n",
    "        df.iloc[i,0] = ''\n",
    "        df.iloc[i,1] = temp\n",
    "\n",
    "    # Remove duplicates\n",
    "    if(df.iloc[i,2]==df.iloc[i,3]):\n",
    "        df.iloc[i,3]=''\n",
    "\n",
    "# Clean escape characters    \n",
    "df = df.replace('\\n|\\r|\\t',' ', regex=True)"
   ]
  },
  {
   "cell_type": "code",
   "execution_count": 4,
   "metadata": {},
   "outputs": [],
   "source": [
    "# Loop through the dataframe for duplicating clauses\n",
    "\n",
    "for i in range (1, len(df)):\n",
    "    pos2 = df.iloc[i,1]\n",
    "    pos1 = df.iloc[i,0]\n",
    " \n",
    "    if(pos2=='' and pos1==''):\n",
    "        # df.iloc[i, 1] = df.iloc[i-1, 1]\n",
    "        j=i\n",
    "        while(j>1):\n",
    "            pos = df.iloc[j,1]\n",
    "            match = bool(re.search(r'\\d.\\d', str(pos)))\n",
    "            if not(match):\n",
    "                j-=1\n",
    "            else:\n",
    "                df.iloc[i, 1] = df.iloc[j, 1]\n",
    "                break"
   ]
  },
  {
   "cell_type": "code",
   "execution_count": 5,
   "metadata": {},
   "outputs": [],
   "source": [
    "# Loop through the dataframe and check clauses\n",
    "\n",
    "section=0\n",
    "clause=0\n",
    "\n",
    "for i in range (1, len(df)):\n",
    "    pos2 = df.iloc[i,1]\n",
    "    pos1 = df.iloc[i,0]\n",
    "    match = bool(re.search(r'\\d', str(pos2)))\n",
    "\n",
    "    if not(pos1==''):\n",
    "        section = (int)(pos1)\n",
    "\n",
    "    if (match):\n",
    "        clause = (int)(pos2[0])\n",
    "        if not(clause>=section):\n",
    "            df.iloc[i, 1] = section"
   ]
  },
  {
   "cell_type": "code",
   "execution_count": 6,
   "metadata": {},
   "outputs": [],
   "source": [
    "# Putting section/clause number in front of non-clause values like NOTE and a,b,c,etc.\n",
    "\n",
    "temp = ''\n",
    "for i in range (1, len(df)):\n",
    "    pos2 = df.iloc[i,1]\n",
    "    pos1 = df.iloc[i,0]\n",
    "    match = bool(re.search(r'\\d', str(pos2))) # Finds numeric value\n",
    "    \n",
    "    if (pos1==''):\n",
    "        if (match):\n",
    "            temp = df.iloc[i,1]\n",
    "        else:\n",
    "            df.iloc[i,1] = str(temp) + ' ' + df.iloc[i,1]"
   ]
  },
  {
   "cell_type": "code",
   "execution_count": 7,
   "metadata": {},
   "outputs": [],
   "source": [
    "df.to_excel(doc_name+\".xlsx\", index=False, header=False)"
   ]
  }
 ],
 "metadata": {
  "kernelspec": {
   "display_name": "Python 3.9.7 ('base')",
   "language": "python",
   "name": "python3"
  },
  "language_info": {
   "codemirror_mode": {
    "name": "ipython",
    "version": 3
   },
   "file_extension": ".py",
   "mimetype": "text/x-python",
   "name": "python",
   "nbconvert_exporter": "python",
   "pygments_lexer": "ipython3",
   "version": "3.9.7"
  },
  "orig_nbformat": 4,
  "vscode": {
   "interpreter": {
    "hash": "e11cfc5c228cd2b5038a1a70e2e60dad8de04e06f775edfb12e275d41b9cf0e6"
   }
  }
 },
 "nbformat": 4,
 "nbformat_minor": 2
}
